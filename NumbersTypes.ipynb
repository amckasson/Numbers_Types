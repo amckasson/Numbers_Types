{
 "cells": [
  {
   "cell_type": "markdown",
   "id": "edfa8769-23df-4fd8-af91-de107f9418ce",
   "metadata": {},
   "source": [
    "Andrew McKasson\n",
    "10/27/2024\n",
    "M01 Numbers and Types"
   ]
  },
  {
   "cell_type": "markdown",
   "id": "b22b0985-ce7c-4489-b954-124cfe6dbeb5",
   "metadata": {},
   "source": [
    "3.1 How many seconds are in an hour? Use the interactive interpreter as a calculator and multiply the number of seconds in a minute (60) by the number of minutes in an hour (also 60)."
   ]
  },
  {
   "cell_type": "code",
   "execution_count": 9,
   "id": "99c94369-65ed-4aca-842e-bca94dccbd28",
   "metadata": {},
   "outputs": [
    {
     "data": {
      "text/plain": [
       "3600"
      ]
     },
     "execution_count": 9,
     "metadata": {},
     "output_type": "execute_result"
    }
   ],
   "source": [
    "# 3.1 \n",
    "seconds = 60 #setting a variable for seconds\n",
    "hour = 60 #setting a variable for hour\n",
    "seconds_per_hour = seconds * hour #creating a variable for seconds__per_hour and saving the results from multiplying the other two variables\n",
    "seconds_per_hour #displaying the results"
   ]
  },
  {
   "cell_type": "markdown",
   "id": "916639f1-489d-445f-9a9c-9e7067f7fa83",
   "metadata": {},
   "source": [
    "3.2 Assign the result from the previous task (seconds in an hour) to a variable called seconds_per_hour."
   ]
  },
  {
   "cell_type": "code",
   "execution_count": 10,
   "id": "9f565dc3-3527-4563-a2c4-7dae72a0aad5",
   "metadata": {},
   "outputs": [],
   "source": [
    "# 3.2\n",
    "seconds_per_hour = 3600 #assigning the results to a variable"
   ]
  },
  {
   "cell_type": "markdown",
   "id": "ed7f8170-8959-493b-8d05-b42f233725d9",
   "metadata": {},
   "source": [
    "3.3 How many seconds are in a day? Use your seconds_per_hour variable."
   ]
  },
  {
   "cell_type": "code",
   "execution_count": 11,
   "id": "7531edec-70a4-4bc0-8be7-36e3570cc7a4",
   "metadata": {},
   "outputs": [
    {
     "data": {
      "text/plain": [
       "86400"
      ]
     },
     "execution_count": 11,
     "metadata": {},
     "output_type": "execute_result"
    }
   ],
   "source": [
    "# 3.3\n",
    "day_hour = 24 #creating a variable for hours in the day\n",
    "day_hour * seconds_per_hour #multiplying the day_hour variable with the seconds_per_hour from 3.2"
   ]
  },
  {
   "cell_type": "markdown",
   "id": "cf69ab1c-f7bc-43c1-8710-9ce242c372d3",
   "metadata": {},
   "source": [
    "3.4 Calculate seconds per day again, but this time save the result in a variable called seconds_per_day."
   ]
  },
  {
   "cell_type": "code",
   "execution_count": 12,
   "id": "dda27fb8-c641-4353-8a74-05f22b634232",
   "metadata": {},
   "outputs": [],
   "source": [
    "# 3.4\n",
    "day_hour = 24\n",
    "seconds_per_day = day_hour * seconds_per_hour # creating variable seconds_per_day and storing results of question"
   ]
  },
  {
   "cell_type": "markdown",
   "id": "50397d2d-3368-4162-9129-cef2a4d5fa3c",
   "metadata": {},
   "source": [
    "3.5 Divide seconds_per_day by seconds_per_hour. Use floating-point (/) division."
   ]
  },
  {
   "cell_type": "code",
   "execution_count": 13,
   "id": "372c648a-398e-49b4-a59c-d979f5148a7b",
   "metadata": {},
   "outputs": [
    {
     "data": {
      "text/plain": [
       "24.0"
      ]
     },
     "execution_count": 13,
     "metadata": {},
     "output_type": "execute_result"
    }
   ],
   "source": [
    "# 3.5\n",
    "seconds_per_day / seconds_per_hour #creating a float by dividing seconds_per_day and seconds_per_hour"
   ]
  },
  {
   "cell_type": "markdown",
   "id": "659d3b7b-b5e7-4ebb-aa7e-89bd87f318ea",
   "metadata": {},
   "source": [
    "3.6 Divide seconds_per_day by seconds_per_hour, using integer (//) division. Did this number agree with the floating-point value from the previous question, aside from the final .0?"
   ]
  },
  {
   "cell_type": "code",
   "execution_count": 14,
   "id": "7755a64c-9a9b-48d4-ab4a-43a39a84a5e8",
   "metadata": {},
   "outputs": [
    {
     "data": {
      "text/plain": [
       "24"
      ]
     },
     "execution_count": 14,
     "metadata": {},
     "output_type": "execute_result"
    }
   ],
   "source": [
    "# 3.6\n",
    "seconds_per_day // seconds_per_hour # testing the result of 3.5 but with an int value"
   ]
  },
  {
   "cell_type": "markdown",
   "id": "9a4caf75-5168-48cb-9459-56bd4978f8aa",
   "metadata": {},
   "source": [
    "# Yes it aggrees with the previous number"
   ]
  }
 ],
 "metadata": {
  "kernelspec": {
   "display_name": "Python 3 (ipykernel)",
   "language": "python",
   "name": "python3"
  },
  "language_info": {
   "codemirror_mode": {
    "name": "ipython",
    "version": 3
   },
   "file_extension": ".py",
   "mimetype": "text/x-python",
   "name": "python",
   "nbconvert_exporter": "python",
   "pygments_lexer": "ipython3",
   "version": "3.11.7"
  }
 },
 "nbformat": 4,
 "nbformat_minor": 5
}
